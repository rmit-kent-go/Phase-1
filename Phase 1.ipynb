{
 "cells": [
  {
   "cell_type": "markdown",
   "metadata": {},
   "source": [
    "<h1>Airline Passenger Satisfaction</h1>\n",
    "<h2>Phase 1: Data Preparation & Visualisation</h2>"
   ]
  },
  {
   "cell_type": "markdown",
   "metadata": {},
   "source": [
    "#### <font color='red'>Question 1</font> \n",
    "\n",
    "Print the number `pi` from the `Numpy` module to 2 decimal places. This will ensure that you have `Numpy` installed."
   ]
  },
  {
   "cell_type": "code",
   "execution_count": 2,
   "metadata": {
    "tags": [
     "q1"
    ]
   },
   "outputs": [
    {
     "name": "stdout",
     "output_type": "stream",
     "text": [
      "pi = 3.14\n"
     ]
    }
   ],
   "source": [
    "import numpy as np\n",
    "\n",
    "pi = np.pi  # replace the dummy value with the \"pi\" attribute from the numpy module\n",
    "\n",
    "print(f\"pi = {pi:.2f}\")"
   ]
  },
  {
   "cell_type": "markdown",
   "metadata": {
    "solution2": "shown",
    "solution2_first": true
   },
   "source": [
    "#### <font color='red'> Question 2</font> \n",
    "\n",
    "Find the shape of the data frame `df` defined below. This will ensure that you have `Pandas` installed.\n",
    "\n",
    "**HINT:** Try: \n",
    "```Python \n",
    "df.shape\n",
    "```"
   ]
  },
  {
   "cell_type": "code",
   "execution_count": 3,
   "metadata": {
    "solution2": "shown",
    "tags": [
     "q3"
    ]
   },
   "outputs": [
    {
     "name": "stdout",
     "output_type": "stream",
     "text": [
      "df_shape = (5, 2)\n"
     ]
    }
   ],
   "source": [
    "import pandas as pd\n",
    "\n",
    "df = pd.DataFrame({'name': ['alice', 'bob', 'cindy', 'david', 'eve'], 'age': [23, 32, 35, 19, 33]})\n",
    "\n",
    "df_shape = df.shape  # find the shape\n",
    "\n",
    "print(f\"df_shape = {df_shape}\")"
   ]
  },
  {
   "cell_type": "markdown",
   "metadata": {},
   "source": [
    "#### <font color='red'> Question 3</font> \n",
    "\n",
    "Write a program that will ask for minimum and maximum ages for the data frame in the above question and display the individuals whose age is between these two age limits (both limits inclusive).\n",
    "\n",
    "**HINT:** Try\n",
    "```Python\n",
    "df[(df['age'] >= min_age) & (df['age'] <= max_age)]\n",
    "```"
   ]
  },
  {
   "cell_type": "code",
   "execution_count": 4,
   "metadata": {
    "tags": [
     "q2"
    ]
   },
   "outputs": [
    {
     "name": "stdout",
     "output_type": "stream",
     "text": [
      "20\n",
      "30\n",
      "    name  age\n",
      "0  alice   23\n"
     ]
    }
   ],
   "source": [
    "import pandas as pd\n",
    "\n",
    "min_age = int(input())\n",
    "max_age = int(input())\n",
    "\n",
    "df = pd.DataFrame({'name': ['alice', 'bob', 'cindy', 'david', 'eve'], 'age': [23, 32, 35, 19, 33]})\n",
    "\n",
    "df_filtered = df[(df['age'] >= min_age) & (df['age'] <= max_age)]\n",
    "                 \n",
    "print(df_filtered)"
   ]
  },
  {
   "cell_type": "markdown",
   "metadata": {},
   "source": [
    "#### <font color='red'> Question 4</font> \n",
    "\n",
    "Present a box plot for the `age` column in the above `df`. This will ensure that you have `Matplotlib` installed.\n",
    "\n",
    "**HINT:** Try this: \n",
    "```Python \n",
    "df['age'].plot.box()\n",
    "```"
   ]
  },
  {
   "cell_type": "code",
   "execution_count": 5,
   "metadata": {
    "tags": [
     "q4"
    ]
   },
   "outputs": [
    {
     "data": {
      "text/plain": [
       "<AxesSubplot:>"
      ]
     },
     "execution_count": 5,
     "metadata": {},
     "output_type": "execute_result"
    },
    {
     "data": {
      "image/png": "[encoded data removed]",
      "text/plain": [
       "<Figure size 432x288 with 1 Axes>"
      ]
     },
     "metadata": {
      "image/png": {
       "height": 248,
       "width": 369
      }
     },
     "output_type": "display_data"
    }
   ],
   "source": [
    "import numpy as np\n",
    "import matplotlib.pyplot as plt\n",
    "\n",
    "%matplotlib inline\n",
    "%config InlineBackend.figure_format = \"retina\"\n",
    "plt.style.use(\"ggplot\")\n",
    "\n",
    "# add your code below\n",
    "df['age'].plot.box()"
   ]
  },
  {
   "cell_type": "markdown",
   "metadata": {},
   "source": [
    "#### <font color='red'> Question 5</font> \n",
    "\n",
    "For a code cell in a Jupyter notebook, you need to run the cell so that you can see the output of the code in that cell. **True** or **False**?"
   ]
  },
  {
   "cell_type": "code",
   "execution_count": 6,
   "metadata": {},
   "outputs": [
    {
     "data": {
      "application/vnd.jupyter.widget-view+json": {
       "model_id": "9e10a294d4ea4182b7154601697470f0",
       "version_major": 2,
       "version_minor": 0
      },
      "text/plain": [
       "interactive(children=(Dropdown(description='selection', options=('nothing selected', 'true', 'false'), value='…"
      ]
     },
     "metadata": {},
     "output_type": "display_data"
    }
   ],
   "source": [
    "# run this cell\n",
    "q5 = interactive(function_mcq, selection=['nothing selected', 'true', 'false']); \n",
    "display(q5)"
   ]
  },
  {
   "cell_type": "code",
   "execution_count": 7,
   "metadata": {
    "tags": [
     "q5"
    ]
   },
   "outputs": [
    {
     "name": "stdout",
     "output_type": "stream",
     "text": [
      "nothing selected\n"
     ]
    }
   ],
   "source": [
    "# run this cell after your selection above\n",
    "print(f\"{q5.kwargs['selection']}\")"
   ]
  },
  {
   "cell_type": "markdown",
   "metadata": {},
   "source": [
    "#### <font color='red'> Question 6</font> \n",
    "\n",
    "In a Jupyter notebook, which one of the following is **not** a top menu option?"
   ]
  },
  {
   "cell_type": "code",
   "execution_count": 8,
   "metadata": {},
   "outputs": [
    {
     "data": {
      "application/vnd.jupyter.widget-view+json": {
       "model_id": "cde8b0c9e9c548aa934a67ad2c4ec00d",
       "version_major": 2,
       "version_minor": 0
      },
      "text/plain": [
       "interactive(children=(Dropdown(description='selection', options=('nothing selected', 'file', 'edit', 'view', '…"
      ]
     },
     "metadata": {},
     "output_type": "display_data"
    }
   ],
   "source": [
    "# run this cell\n",
    "q6 = interactive(function_mcq, selection=['nothing selected', 'file', 'edit', 'view', 'submit', 'kernel']); \n",
    "display(q6)"
   ]
  },
  {
   "cell_type": "code",
   "execution_count": 9,
   "metadata": {
    "tags": [
     "q6"
    ]
   },
   "outputs": [
    {
     "name": "stdout",
     "output_type": "stream",
     "text": [
      "nothing selected\n"
     ]
    }
   ],
   "source": [
    "# run this cell after your selection above\n",
    "print(f\"{q6.kwargs['selection']}\")"
   ]
  },
  {
   "cell_type": "markdown",
   "metadata": {},
   "source": [
    "#### <font color='red'> Question 7</font> \n",
    "\n",
    "What is the mean of a sample with the following 4 observations:<br> 4, 6, 10, 1000?"
   ]
  },
  {
   "cell_type": "code",
   "execution_count": 10,
   "metadata": {
    "tags": [
     "q7"
    ]
   },
   "outputs": [
    {
     "name": "stdout",
     "output_type": "stream",
     "text": [
      "mean = 255.00\n"
     ]
    }
   ],
   "source": [
    "mean = (4+6+10+1000)/4  # find with the mean\n",
    "\n",
    "print(f\"mean = {mean:.2f}\")"
   ]
  },
  {
   "cell_type": "markdown",
   "metadata": {},
   "source": [
    "#### <font color='red'> Question 8</font> \n",
    "\n",
    "What is the median of the sample in the above question?"
   ]
  },
  {
   "cell_type": "code",
   "execution_count": 11,
   "metadata": {
    "tags": [
     "q8"
    ]
   },
   "outputs": [
    {
     "name": "stdout",
     "output_type": "stream",
     "text": [
      "median = 8.00\n"
     ]
    }
   ],
   "source": [
    "median = (6+10)/2  # find with the median\n",
    "\n",
    "print(f\"median = {median:.2f}\")"
   ]
  },
  {
   "cell_type": "markdown",
   "metadata": {},
   "source": [
    "#### <font color='red'> Question 9</font> \n",
    "\n",
    "**Part A:** Identify the following random variables as either **discrete** or **continuous**: \n",
    "- Length of a string in Python \n",
    "- Execution time of a computer program\n",
    "- Number of rows in a Pandas data frame"
   ]
  },
  {
   "cell_type": "code",
   "execution_count": 12,
   "metadata": {
    "tags": [
     "q9a"
    ]
   },
   "outputs": [
    {
     "name": "stdout",
     "output_type": "stream",
     "text": [
      "length of a python string: discrete\n",
      "execution time of a computer program: continous\n",
      "number of rows in a data frame: discrete\n"
     ]
    }
   ],
   "source": [
    "random_vars = dict()\n",
    "\n",
    "random_var_types = ['nothing selected', 'discrete', 'continous']\n",
    "\n",
    "random_vars['length of a python string'] = random_var_types[1]  # replace 0 with the correct list index\n",
    "random_vars['execution time of a computer program'] = random_var_types[2]  # replace 0 with the correct list index\n",
    "random_vars['number of rows in a data frame'] = random_var_types[1]  # replace 0 with the correct list index\n",
    "\n",
    "for key, value in random_vars.items():\n",
    "    print(f\"{key}: {value}\")"
   ]
  },
  {
   "cell_type": "markdown",
   "metadata": {},
   "source": [
    "**Part B:** Please explain your reasoning above. "
   ]
  },
  {
   "cell_type": "code",
   "execution_count": 13,
   "metadata": {
    "tags": [
     "q9b"
    ]
   },
   "outputs": [
    {
     "name": "stdout",
     "output_type": "stream",
     "text": [
      "\n",
      "Length of a Python string is discrete.\n",
      "Why: because it can be counted.\n",
      "Execution time of a computer program is continous because time is a continous quantity.\n",
      "Number of rows in a data frame is discret because it can be counted.\n",
      "\n"
     ]
    }
   ],
   "source": [
    "# provide your answer below within the print() statement\n",
    "print(\"\"\"\n",
    "Length of a Python string is discrete.\n",
    "Why: because it can be counted.\n",
    "Execution time of a computer program is continous because time is a continous quantity.\n",
    "Number of rows in a data frame is discret because it can be counted.\n",
    "\"\"\")"
   ]
  },
  {
   "cell_type": "markdown",
   "metadata": {},
   "source": [
    "#### <font color='red'> Question 10</font> \n",
    "\n",
    "Write a Python program that will ask for two real numbers and return their sum. Please make sure you run your code cell."
   ]
  },
  {
   "cell_type": "code",
   "execution_count": 4,
   "metadata": {
    "tags": [
     "q10"
    ]
   },
   "outputs": [
    {
     "name": "stdout",
     "output_type": "stream",
     "text": [
      "Waiting for input: 1\n",
      "Waiting for input: 2\n",
      "sum is 3.00\n"
     ]
    }
   ],
   "source": [
    "a = float(input('Waiting for input: '))\n",
    "b = float(input('Waiting for input: '))\n",
    "def function1(a, b):\n",
    "    result = -999\n",
    "    # add your code below\n",
    "    result = a + b\n",
    "    return result\n",
    "print(f\"sum is {function1(a,b):.2f}\")"
   ]
  },
  {
   "cell_type": "code",
   "execution_count": null,
   "metadata": {},
   "outputs": [],
   "source": []
  }
 ],
 "metadata": {
  "hide_input": false,
  "kernelspec": {
   "display_name": "Python 3 (ipykernel)",
   "language": "python",
   "name": "python3"
  },
  "language_info": {
   "codemirror_mode": {
    "name": "ipython",
    "version": 3
   },
   "file_extension": ".py",
   "mimetype": "text/x-python",
   "name": "python",
   "nbconvert_exporter": "python",
   "pygments_lexer": "ipython3",
   "version": "3.9.12"
  },
  "toc": {
   "base_numbering": 1,
   "nav_menu": {},
   "number_sections": true,
   "sideBar": true,
   "skip_h1_title": true,
   "title_cell": "Table of Contents",
   "title_sidebar": "Contents",
   "toc_cell": true,
   "toc_position": {},
   "toc_section_display": true,
   "toc_window_display": false
  },
  "varInspector": {
   "cols": {
    "lenName": 16,
    "lenType": 16,
    "lenVar": 40
   },
   "kernels_config": {
    "python": {
     "delete_cmd_postfix": "",
     "delete_cmd_prefix": "del ",
     "library": "var_list.py",
     "varRefreshCmd": "print(var_dic_list())"
    },
    "r": {
     "delete_cmd_postfix": ") ",
     "delete_cmd_prefix": "rm(",
     "library": "var_list.r",
     "varRefreshCmd": "cat(var_dic_list()) "
    }
   },
   "oldHeight": 277.329246,
   "position": {
    "height": "288.304px",
    "left": "613.402px",
    "right": "20px",
    "top": "132.955px",
    "width": "418px"
   },
   "types_to_exclude": [
    "module",
    "function",
    "builtin_function_or_method",
    "instance",
    "_Feature"
   ],
   "varInspector_section_display": "block",
   "window_display": false
  }
 },
 "nbformat": 4,
 "nbformat_minor": 2
}
